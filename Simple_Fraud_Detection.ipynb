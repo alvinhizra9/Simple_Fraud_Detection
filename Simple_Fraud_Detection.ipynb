{
 "cells": [
  {
   "cell_type": "markdown",
   "metadata": {},
   "source": [
    "# Simple Fraud Detection\n"
   ]
  },
  {
   "cell_type": "markdown",
   "metadata": {},
   "source": [
    "Take a look at data\n"
   ]
  },
  {
   "cell_type": "code",
   "execution_count": 2,
   "metadata": {},
   "outputs": [],
   "source": [
    "import pandas as pd"
   ]
  },
  {
   "cell_type": "code",
   "execution_count": 3,
   "metadata": {},
   "outputs": [
    {
     "data": {
      "text/html": [
       "<div>\n",
       "<style scoped>\n",
       "    .dataframe tbody tr th:only-of-type {\n",
       "        vertical-align: middle;\n",
       "    }\n",
       "\n",
       "    .dataframe tbody tr th {\n",
       "        vertical-align: top;\n",
       "    }\n",
       "\n",
       "    .dataframe thead th {\n",
       "        text-align: right;\n",
       "    }\n",
       "</style>\n",
       "<table border=\"1\" class=\"dataframe\">\n",
       "  <thead>\n",
       "    <tr style=\"text-align: right;\">\n",
       "      <th></th>\n",
       "      <th>Time</th>\n",
       "      <th>V1</th>\n",
       "      <th>V2</th>\n",
       "      <th>V3</th>\n",
       "      <th>V4</th>\n",
       "      <th>V5</th>\n",
       "      <th>V6</th>\n",
       "      <th>V7</th>\n",
       "      <th>V8</th>\n",
       "      <th>V9</th>\n",
       "      <th>...</th>\n",
       "      <th>V21</th>\n",
       "      <th>V22</th>\n",
       "      <th>V23</th>\n",
       "      <th>V24</th>\n",
       "      <th>V25</th>\n",
       "      <th>V26</th>\n",
       "      <th>V27</th>\n",
       "      <th>V28</th>\n",
       "      <th>Amount</th>\n",
       "      <th>Class</th>\n",
       "    </tr>\n",
       "  </thead>\n",
       "  <tbody>\n",
       "    <tr>\n",
       "      <th>0</th>\n",
       "      <td>57454.0</td>\n",
       "      <td>1.234125</td>\n",
       "      <td>0.067451</td>\n",
       "      <td>0.296964</td>\n",
       "      <td>0.115288</td>\n",
       "      <td>-0.469028</td>\n",
       "      <td>-1.082642</td>\n",
       "      <td>0.148110</td>\n",
       "      <td>-0.338343</td>\n",
       "      <td>-0.048757</td>\n",
       "      <td>...</td>\n",
       "      <td>0.053224</td>\n",
       "      <td>0.189697</td>\n",
       "      <td>-0.092676</td>\n",
       "      <td>0.519821</td>\n",
       "      <td>0.419710</td>\n",
       "      <td>1.061795</td>\n",
       "      <td>-0.081177</td>\n",
       "      <td>0.009856</td>\n",
       "      <td>36.18</td>\n",
       "      <td>0</td>\n",
       "    </tr>\n",
       "    <tr>\n",
       "      <th>1</th>\n",
       "      <td>154150.0</td>\n",
       "      <td>1.457108</td>\n",
       "      <td>-1.761821</td>\n",
       "      <td>-3.002770</td>\n",
       "      <td>-0.275346</td>\n",
       "      <td>-0.069917</td>\n",
       "      <td>-1.121440</td>\n",
       "      <td>0.961966</td>\n",
       "      <td>-0.583906</td>\n",
       "      <td>-1.286790</td>\n",
       "      <td>...</td>\n",
       "      <td>0.152628</td>\n",
       "      <td>0.081439</td>\n",
       "      <td>-0.510123</td>\n",
       "      <td>-0.423756</td>\n",
       "      <td>0.354659</td>\n",
       "      <td>0.989303</td>\n",
       "      <td>-0.209577</td>\n",
       "      <td>-0.037939</td>\n",
       "      <td>417.22</td>\n",
       "      <td>0</td>\n",
       "    </tr>\n",
       "    <tr>\n",
       "      <th>2</th>\n",
       "      <td>170634.0</td>\n",
       "      <td>-0.695199</td>\n",
       "      <td>-0.614314</td>\n",
       "      <td>-1.916275</td>\n",
       "      <td>-1.730137</td>\n",
       "      <td>0.656040</td>\n",
       "      <td>-0.487710</td>\n",
       "      <td>3.070323</td>\n",
       "      <td>-0.568069</td>\n",
       "      <td>-0.476456</td>\n",
       "      <td>...</td>\n",
       "      <td>0.499473</td>\n",
       "      <td>0.694754</td>\n",
       "      <td>0.423320</td>\n",
       "      <td>0.039066</td>\n",
       "      <td>1.163410</td>\n",
       "      <td>1.081415</td>\n",
       "      <td>-0.314746</td>\n",
       "      <td>-0.042785</td>\n",
       "      <td>435.52</td>\n",
       "      <td>0</td>\n",
       "    </tr>\n",
       "    <tr>\n",
       "      <th>3</th>\n",
       "      <td>56429.0</td>\n",
       "      <td>1.076015</td>\n",
       "      <td>-0.491599</td>\n",
       "      <td>1.313653</td>\n",
       "      <td>0.417025</td>\n",
       "      <td>-1.500655</td>\n",
       "      <td>-0.677437</td>\n",
       "      <td>-0.563333</td>\n",
       "      <td>-0.002638</td>\n",
       "      <td>1.142403</td>\n",
       "      <td>...</td>\n",
       "      <td>-0.166487</td>\n",
       "      <td>-0.328894</td>\n",
       "      <td>0.099462</td>\n",
       "      <td>0.998385</td>\n",
       "      <td>0.050959</td>\n",
       "      <td>0.903868</td>\n",
       "      <td>-0.041603</td>\n",
       "      <td>0.028806</td>\n",
       "      <td>59.15</td>\n",
       "      <td>0</td>\n",
       "    </tr>\n",
       "    <tr>\n",
       "      <th>4</th>\n",
       "      <td>79367.0</td>\n",
       "      <td>-0.710041</td>\n",
       "      <td>1.234577</td>\n",
       "      <td>0.870180</td>\n",
       "      <td>2.971783</td>\n",
       "      <td>0.209227</td>\n",
       "      <td>0.280950</td>\n",
       "      <td>0.109603</td>\n",
       "      <td>0.565814</td>\n",
       "      <td>-1.642181</td>\n",
       "      <td>...</td>\n",
       "      <td>0.242005</td>\n",
       "      <td>0.749509</td>\n",
       "      <td>0.252878</td>\n",
       "      <td>0.235265</td>\n",
       "      <td>-0.754139</td>\n",
       "      <td>0.172633</td>\n",
       "      <td>-0.003478</td>\n",
       "      <td>0.101051</td>\n",
       "      <td>0.76</td>\n",
       "      <td>0</td>\n",
       "    </tr>\n",
       "  </tbody>\n",
       "</table>\n",
       "<p>5 rows × 31 columns</p>\n",
       "</div>"
      ],
      "text/plain": [
       "       Time        V1        V2        V3        V4        V5        V6  \\\n",
       "0   57454.0  1.234125  0.067451  0.296964  0.115288 -0.469028 -1.082642   \n",
       "1  154150.0  1.457108 -1.761821 -3.002770 -0.275346 -0.069917 -1.121440   \n",
       "2  170634.0 -0.695199 -0.614314 -1.916275 -1.730137  0.656040 -0.487710   \n",
       "3   56429.0  1.076015 -0.491599  1.313653  0.417025 -1.500655 -0.677437   \n",
       "4   79367.0 -0.710041  1.234577  0.870180  2.971783  0.209227  0.280950   \n",
       "\n",
       "         V7        V8        V9  ...       V21       V22       V23       V24  \\\n",
       "0  0.148110 -0.338343 -0.048757  ...  0.053224  0.189697 -0.092676  0.519821   \n",
       "1  0.961966 -0.583906 -1.286790  ...  0.152628  0.081439 -0.510123 -0.423756   \n",
       "2  3.070323 -0.568069 -0.476456  ...  0.499473  0.694754  0.423320  0.039066   \n",
       "3 -0.563333 -0.002638  1.142403  ... -0.166487 -0.328894  0.099462  0.998385   \n",
       "4  0.109603  0.565814 -1.642181  ...  0.242005  0.749509  0.252878  0.235265   \n",
       "\n",
       "        V25       V26       V27       V28  Amount  Class  \n",
       "0  0.419710  1.061795 -0.081177  0.009856   36.18      0  \n",
       "1  0.354659  0.989303 -0.209577 -0.037939  417.22      0  \n",
       "2  1.163410  1.081415 -0.314746 -0.042785  435.52      0  \n",
       "3  0.050959  0.903868 -0.041603  0.028806   59.15      0  \n",
       "4 -0.754139  0.172633 -0.003478  0.101051    0.76      0  \n",
       "\n",
       "[5 rows x 31 columns]"
      ]
     },
     "execution_count": 3,
     "metadata": {},
     "output_type": "execute_result"
    }
   ],
   "source": [
    "df = pd.read_csv(\"creditcard.csv\", low_memory=False)\n",
    "df = df.sample(frac=1).reset_index(drop=True)\n",
    "df.head()"
   ]
  },
  {
   "cell_type": "markdown",
   "metadata": {},
   "source": [
    "Our Target is column named \"Class\"\n"
   ]
  },
  {
   "cell_type": "code",
   "execution_count": 5,
   "metadata": {},
   "outputs": [
    {
     "data": {
      "text/plain": [
       "array([0, 1])"
      ]
     },
     "execution_count": 5,
     "metadata": {},
     "output_type": "execute_result"
    }
   ],
   "source": [
    "df[\"Class\"].unique()"
   ]
  },
  {
   "cell_type": "markdown",
   "metadata": {},
   "source": [
    "Check if our data is imbalance\n"
   ]
  },
  {
   "cell_type": "code",
   "execution_count": 8,
   "metadata": {},
   "outputs": [
    {
     "data": {
      "text/plain": [
       "Class\n",
       "0    284315\n",
       "1       492\n",
       "Name: count, dtype: int64"
      ]
     },
     "execution_count": 8,
     "metadata": {},
     "output_type": "execute_result"
    }
   ],
   "source": [
    "df[\"Class\"].value_counts()"
   ]
  },
  {
   "cell_type": "markdown",
   "metadata": {},
   "source": [
    "Our data is imbalance. But, let's ignore that first and do modelling with logistic regression\n"
   ]
  },
  {
   "cell_type": "code",
   "execution_count": 9,
   "metadata": {},
   "outputs": [],
   "source": [
    "from sklearn.model_selection import train_test_split\n",
    "from sklearn.linear_model import LogisticRegression"
   ]
  },
  {
   "cell_type": "code",
   "execution_count": 13,
   "metadata": {},
   "outputs": [
    {
     "data": {
      "text/html": [
       "<style>#sk-container-id-3 {color: black;}#sk-container-id-3 pre{padding: 0;}#sk-container-id-3 div.sk-toggleable {background-color: white;}#sk-container-id-3 label.sk-toggleable__label {cursor: pointer;display: block;width: 100%;margin-bottom: 0;padding: 0.3em;box-sizing: border-box;text-align: center;}#sk-container-id-3 label.sk-toggleable__label-arrow:before {content: \"▸\";float: left;margin-right: 0.25em;color: #696969;}#sk-container-id-3 label.sk-toggleable__label-arrow:hover:before {color: black;}#sk-container-id-3 div.sk-estimator:hover label.sk-toggleable__label-arrow:before {color: black;}#sk-container-id-3 div.sk-toggleable__content {max-height: 0;max-width: 0;overflow: hidden;text-align: left;background-color: #f0f8ff;}#sk-container-id-3 div.sk-toggleable__content pre {margin: 0.2em;color: black;border-radius: 0.25em;background-color: #f0f8ff;}#sk-container-id-3 input.sk-toggleable__control:checked~div.sk-toggleable__content {max-height: 200px;max-width: 100%;overflow: auto;}#sk-container-id-3 input.sk-toggleable__control:checked~label.sk-toggleable__label-arrow:before {content: \"▾\";}#sk-container-id-3 div.sk-estimator input.sk-toggleable__control:checked~label.sk-toggleable__label {background-color: #d4ebff;}#sk-container-id-3 div.sk-label input.sk-toggleable__control:checked~label.sk-toggleable__label {background-color: #d4ebff;}#sk-container-id-3 input.sk-hidden--visually {border: 0;clip: rect(1px 1px 1px 1px);clip: rect(1px, 1px, 1px, 1px);height: 1px;margin: -1px;overflow: hidden;padding: 0;position: absolute;width: 1px;}#sk-container-id-3 div.sk-estimator {font-family: monospace;background-color: #f0f8ff;border: 1px dotted black;border-radius: 0.25em;box-sizing: border-box;margin-bottom: 0.5em;}#sk-container-id-3 div.sk-estimator:hover {background-color: #d4ebff;}#sk-container-id-3 div.sk-parallel-item::after {content: \"\";width: 100%;border-bottom: 1px solid gray;flex-grow: 1;}#sk-container-id-3 div.sk-label:hover label.sk-toggleable__label {background-color: #d4ebff;}#sk-container-id-3 div.sk-serial::before {content: \"\";position: absolute;border-left: 1px solid gray;box-sizing: border-box;top: 0;bottom: 0;left: 50%;z-index: 0;}#sk-container-id-3 div.sk-serial {display: flex;flex-direction: column;align-items: center;background-color: white;padding-right: 0.2em;padding-left: 0.2em;position: relative;}#sk-container-id-3 div.sk-item {position: relative;z-index: 1;}#sk-container-id-3 div.sk-parallel {display: flex;align-items: stretch;justify-content: center;background-color: white;position: relative;}#sk-container-id-3 div.sk-item::before, #sk-container-id-3 div.sk-parallel-item::before {content: \"\";position: absolute;border-left: 1px solid gray;box-sizing: border-box;top: 0;bottom: 0;left: 50%;z-index: -1;}#sk-container-id-3 div.sk-parallel-item {display: flex;flex-direction: column;z-index: 1;position: relative;background-color: white;}#sk-container-id-3 div.sk-parallel-item:first-child::after {align-self: flex-end;width: 50%;}#sk-container-id-3 div.sk-parallel-item:last-child::after {align-self: flex-start;width: 50%;}#sk-container-id-3 div.sk-parallel-item:only-child::after {width: 0;}#sk-container-id-3 div.sk-dashed-wrapped {border: 1px dashed gray;margin: 0 0.4em 0.5em 0.4em;box-sizing: border-box;padding-bottom: 0.4em;background-color: white;}#sk-container-id-3 div.sk-label label {font-family: monospace;font-weight: bold;display: inline-block;line-height: 1.2em;}#sk-container-id-3 div.sk-label-container {text-align: center;}#sk-container-id-3 div.sk-container {/* jupyter's `normalize.less` sets `[hidden] { display: none; }` but bootstrap.min.css set `[hidden] { display: none !important; }` so we also need the `!important` here to be able to override the default hidden behavior on the sphinx rendered scikit-learn.org. See: https://github.com/scikit-learn/scikit-learn/issues/21755 */display: inline-block !important;position: relative;}#sk-container-id-3 div.sk-text-repr-fallback {display: none;}</style><div id=\"sk-container-id-3\" class=\"sk-top-container\"><div class=\"sk-text-repr-fallback\"><pre>LogisticRegression(max_iter=1000)</pre><b>In a Jupyter environment, please rerun this cell to show the HTML representation or trust the notebook. <br />On GitHub, the HTML representation is unable to render, please try loading this page with nbviewer.org.</b></div><div class=\"sk-container\" hidden><div class=\"sk-item\"><div class=\"sk-estimator sk-toggleable\"><input class=\"sk-toggleable__control sk-hidden--visually\" id=\"sk-estimator-id-3\" type=\"checkbox\" checked><label for=\"sk-estimator-id-3\" class=\"sk-toggleable__label sk-toggleable__label-arrow\">LogisticRegression</label><div class=\"sk-toggleable__content\"><pre>LogisticRegression(max_iter=1000)</pre></div></div></div></div></div>"
      ],
      "text/plain": [
       "LogisticRegression(max_iter=1000)"
      ]
     },
     "execution_count": 13,
     "metadata": {},
     "output_type": "execute_result"
    }
   ],
   "source": [
    "X = df.iloc[:, :-1]\n",
    "y = df[\"Class\"]\n",
    "\n",
    "X_train, X_test, y_train, y_test = train_test_split(\n",
    "    X, y, test_size=0.3, random_state=0\n",
    ")\n",
    "logreg = LogisticRegression(max_iter=1000)\n",
    "logreg.fit(X_train, y_train)"
   ]
  },
  {
   "cell_type": "markdown",
   "metadata": {},
   "source": [
    "Predict training data\n"
   ]
  },
  {
   "cell_type": "code",
   "execution_count": 14,
   "metadata": {},
   "outputs": [],
   "source": [
    "y_train_pred = logreg.predict(X_train)"
   ]
  },
  {
   "cell_type": "markdown",
   "metadata": {},
   "source": [
    "Check classtification report for training data\n"
   ]
  },
  {
   "cell_type": "code",
   "execution_count": 15,
   "metadata": {},
   "outputs": [
    {
     "name": "stdout",
     "output_type": "stream",
     "text": [
      "              precision    recall  f1-score   support\n",
      "\n",
      "           0       1.00      1.00      1.00    199016\n",
      "           1       0.83      0.58      0.68       348\n",
      "\n",
      "    accuracy                           1.00    199364\n",
      "   macro avg       0.91      0.79      0.84    199364\n",
      "weighted avg       1.00      1.00      1.00    199364\n",
      "\n"
     ]
    }
   ],
   "source": [
    "from sklearn.metrics import classification_report\n",
    "\n",
    "print(classification_report(y_train, y_train_pred))"
   ]
  },
  {
   "cell_type": "markdown",
   "metadata": {},
   "source": [
    "Predict test data\n"
   ]
  },
  {
   "cell_type": "code",
   "execution_count": 16,
   "metadata": {},
   "outputs": [],
   "source": [
    "y_test_pred = logreg.predict(X_test)"
   ]
  },
  {
   "cell_type": "markdown",
   "metadata": {},
   "source": [
    "Check classtification report for test data\n"
   ]
  },
  {
   "cell_type": "code",
   "execution_count": 17,
   "metadata": {},
   "outputs": [
    {
     "name": "stdout",
     "output_type": "stream",
     "text": [
      "              precision    recall  f1-score   support\n",
      "\n",
      "           0       1.00      1.00      1.00     85299\n",
      "           1       0.88      0.65      0.75       144\n",
      "\n",
      "    accuracy                           1.00     85443\n",
      "   macro avg       0.94      0.83      0.87     85443\n",
      "weighted avg       1.00      1.00      1.00     85443\n",
      "\n"
     ]
    }
   ],
   "source": [
    "print(classification_report(y_test, y_test_pred))"
   ]
  },
  {
   "cell_type": "markdown",
   "metadata": {},
   "source": []
  }
 ],
 "metadata": {
  "kernelspec": {
   "display_name": "Python 3",
   "language": "python",
   "name": "python3"
  },
  "language_info": {
   "codemirror_mode": {
    "name": "ipython",
    "version": 3
   },
   "file_extension": ".py",
   "mimetype": "text/x-python",
   "name": "python",
   "nbconvert_exporter": "python",
   "pygments_lexer": "ipython3",
   "version": "3.9.6"
  }
 },
 "nbformat": 4,
 "nbformat_minor": 2
}
